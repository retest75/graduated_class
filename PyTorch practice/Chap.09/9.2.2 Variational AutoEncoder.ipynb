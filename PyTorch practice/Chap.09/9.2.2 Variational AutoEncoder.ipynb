{
 "cells": [
  {
   "cell_type": "markdown",
   "metadata": {},
   "source": [
    "# About parameters"
   ]
  },
  {
   "cell_type": "code",
   "execution_count": 1,
   "metadata": {},
   "outputs": [
    {
     "name": "stdout",
     "output_type": "stream",
     "text": [
      "PyTorch version: 1.12.1+cu113\n",
      "cuda\n"
     ]
    }
   ],
   "source": [
    "import torch\n",
    "\n",
    "batch_size = 256\n",
    "print(f\"PyTorch version: {torch.__version__}\")\n",
    "device = torch.device(\"cuda\" if torch.cuda.is_available() else \"cpu\")\n",
    "print(\"cuda\" if torch.cuda.is_available() else \"cpu\")"
   ]
  },
  {
   "cell_type": "markdown",
   "metadata": {},
   "source": [
    "# Load MNIST dataset and show first 20 images"
   ]
  },
  {
   "cell_type": "code",
   "execution_count": 3,
   "metadata": {},
   "outputs": [
    {
     "data": {
      "image/png": "[encoded data removed]",
      "text/plain": [
       "<Figure size 576x576 with 20 Axes>"
      ]
     },
     "metadata": {},
     "output_type": "display_data"
    }
   ],
   "source": [
    "import random\n",
    "import numpy as np\n",
    "import matplotlib.pyplot as plt\n",
    "\n",
    "from torchvision.datasets import MNIST\n",
    "\n",
    "train_path = \"D:/Graduate Class/implement practice/PyTorch/dataset/MNIST/train\"\n",
    "test_path = \"D:/Graduate Class/implement practice/PyTorch/dataset/MNIST/test\"\n",
    "\n",
    "# if you don't have MNIST dataset, assign download to True\n",
    "train_ds = MNIST(train_path, train=True, download=False)\n",
    "test_ds = MNIST(train_path, train=False, download=False)\n",
    "\n",
    "#####################################\n",
    "# 1. show first 20 images\n",
    "# 2. axs.flatten: will flatten the 4*5 subplot array(把4*5的子圖矩陣攤平, 每次送入一個子圖位置)\n",
    "# 3. if want to show image by imshow() of matplotlib, must convert numpy OR PIL\n",
    "#####################################\n",
    "fig, axs = plt.subplots(4, 5, figsize=(8, 8))\n",
    "for ax in axs.flatten():\n",
    "    img, lbl = random.choice(train_ds)\n",
    "    ax.imshow(np.array(img), cmap=\"gist_gray\")\n",
    "    ax.set_title(f\"Label: {lbl}\")\n",
    "    ax.set_xticks([]) # conceal x-axis\n",
    "    ax.set_yticks([]) # conceal y-axis\n",
    "\n",
    "plt.tight_layout()"
   ]
  },
  {
   "cell_type": "markdown",
   "metadata": {},
   "source": [
    "# Dataloader and split dataset\n",
    "1. split 20% data as validation set\n",
    "2. split data by random_split, like train_test_split in scikit-learn\n",
    "3. reference: https://pytorch.org/docs/stable/data.html#torch.utils.data.random_split"
   ]
  },
  {
   "cell_type": "code",
   "execution_count": 7,
   "metadata": {},
   "outputs": [],
   "source": [
    "from torchvision import transforms\n",
    "from torch.utils.data import DataLoader, random_split\n",
    "\n",
    "# convert into tensor\n",
    "train_ds.transforms = transforms.ToTensor()\n",
    "test_ds.transforms = transforms.ToTensor()\n",
    "\n",
    "#################################\n",
    "# 1. random_split data\n",
    "# 2. in old version, random_split must input integer length, whose sum must equal dataset\n",
    "# 3. however, in new version, random_split also can input fracton\n",
    "#################################\n",
    "length = len(train_ds)\n",
    "lower, upper = int(length*0.8), int(length*0.2)\n",
    "train_data, val_data = random_split(train_ds, [lower, upper])\n",
    "\n",
    "# dataloader\n",
    "train_dl = DataLoader(train_data, batch_size=batch_size)\n",
    "val_dl = DataLoader(val_data, batch_size=batch_size, shuffle=True)\n"
   ]
  },
  {
   "cell_type": "markdown",
   "metadata": {},
   "source": [
    "# Define noise function\n",
    "1. about randn_like: https://pytorch.org/docs/stable/generated/torch.randn_like\n",
    "2. about torch.clip: https://pytorch.org/docs/stable/generated/torch.clamp.html#torch.clamp"
   ]
  },
  {
   "cell_type": "code",
   "execution_count": 8,
   "metadata": {},
   "outputs": [],
   "source": [
    "def add_noise(inputs, noise_factor=0.3):\n",
    "    noise = inputs + randn_like(inputs) * noise_factor # add noise on input image\n",
    "    noise = torch.clip(noise, 0., 1.) # set pixel range between 0 and 1\n",
    "    return noise\n"
   ]
  },
  {
   "cell_type": "markdown",
   "metadata": {},
   "source": [
    "# Define Variational AE"
   ]
  },
  {
   "cell_type": "code",
   "execution_count": 28,
   "metadata": {},
   "outputs": [],
   "source": [
    "import torch.nn as nn\n",
    "\n",
    "# encoder\n",
    "class Encoder(nn.Module):\n",
    "    def __init__(self, encoder_output_dim):\n",
    "        super().__init__()\n",
    "        \n",
    "        # convolution\n",
    "        self.encoder = nn.Sequential(\n",
    "        nn.Conv2d(1, 8, 3, stride=2, padding=1),   # size = [8, 16, 16]\n",
    "        nn.ReLU(True),\n",
    "        nn.Conv2d(8, 16, 3, stride=2, padding=1),  # size = [16, 8, 8]\n",
    "        nn.BatchNorm2d(16),\n",
    "        nn.ReLU(True),\n",
    "        nn.Conv2d(16, 32, 3, stride=2, padding=0), # size = [32, 3, 3]\n",
    "        nn.ReLU(True)\n",
    "        )\n",
    "        \n",
    "        # flatten\n",
    "        self.flatten = nn.Flatten(start_dim=1) # flatten for first dimension i.e. batch\n",
    "        \n",
    "        ###################################################\n",
    "        #self.fc = nn.Linear(32*3*3, 128) # this  fully connect layer also can omit\n",
    "        ###################################################\n",
    "        \n",
    "        ###################################################\n",
    "        # outputs are mean and variation\n",
    "        # if just want to  write autoencoder, delete under code and modify forward function\n",
    "        self.mean = nn.Linear(32*3*3, encoder_output_dim)\n",
    "        self.var = nn.Linear(32*3*3, encoder_output_dim)\n",
    "        ###################################################\n",
    "        \n",
    "    def forward(self, x):\n",
    "        x = self.encoder(x)\n",
    "        x = self.flatten(x)\n",
    "        mean = self.mean(x)\n",
    "        var = self.var(x)\n",
    "        \n",
    "        return mean, var\n",
    "\n",
    "# decoder\n",
    "class Decoder(nn.Module):\n",
    "    def __init__(self, decoder_input_dim):\n",
    "        super().__init__()\n",
    "        \n",
    "        # unflatten\n",
    "        self.unflatten = nn.Unflatten(dim=1, unflattened_size=(32, 3, 3))\n",
    "        \n",
    "        # decoder\n",
    "        self.decoder = nn.Sequential(\n",
    "        nn.ConvTranspose2d(32, 16, 3, stride=2, output_padding=0),\n",
    "        nn.BatchNorm2d(16),\n",
    "        nn.ReLU(True),\n",
    "        nn.ConvTranspose2d(16, 8, 3, stride=2, padding=1, output_padding=1),\n",
    "        nn.BatchNorm2d(8),\n",
    "        nn.ReLU(True),\n",
    "        nn.ConvTranspose2d(8, 1, 3, stride=2, padding=1, output_padding=1)\n",
    "        )\n",
    "        \n",
    "    def forward(self, x):\n",
    "        x = self.unflatten(x)\n",
    "        x = self.decoder(x)\n",
    "        x = torch.sigmoid(x)\n",
    "        \n",
    "        return x\n",
    "        "
   ]
  },
  {
   "cell_type": "markdown",
   "metadata": {},
   "source": [
    "## Define sampleer function(抽樣函數)"
   ]
  },
  {
   "cell_type": "code",
   "execution_count": 45,
   "metadata": {},
   "outputs": [],
   "source": [
    "def sampler(mean, var):\n",
    "    std = torch.exp(var/2)\n",
    "    eps = torch.randn_like(std) # sampler from normal distribution N(0, 1)\n",
    "    return mean + std * eps\n"
   ]
  },
  {
   "cell_type": "markdown",
   "metadata": {},
   "source": [
    "# Loss function and optimizer\n",
    "1. use KL divergence as loss function"
   ]
  },
  {
   "cell_type": "code",
   "execution_count": 44,
   "metadata": {},
   "outputs": [],
   "source": [
    "import torch.nn.functional as F\n",
    "\n",
    "# KL divergence\n",
    "def loss_fn(out, imgs, mean, var):\n",
    "    kl_divergence = 0.5 * torch.sum(1 + var - mean.pow(2) - var.exp())\n",
    "    return F.binary_cross_entropy(out, imgs, size_average=False) - kl_divergence\n",
    "\n",
    "lr= 0.001 # Learning rate\n",
    "\n",
    "encoder = Encoder(128)\n",
    "decoder = Decoder(128)\n",
    "\n",
    "params_to_optimize = [\n",
    "    {'params': encoder.parameters()},\n",
    "    {'params': decoder.parameters()}\n",
    "]\n",
    "\n",
    "optim = torch.optim.Adam(params_to_optimize, lr=lr)"
   ]
  },
  {
   "cell_type": "markdown",
   "metadata": {},
   "source": [
    "# Define train and test function"
   ]
  },
  {
   "cell_type": "code",
   "execution_count": 42,
   "metadata": {},
   "outputs": [],
   "source": [
    "# train\n",
    "def train_epoch_den(encoder, decoder, dataloader, criterion, optimizer, noise_factor=0.3):\n",
    "    \n",
    "    # training phase\n",
    "    encoder.train()\n",
    "    decoder.train()\n",
    "    train_loss = []\n",
    "    \n",
    "    # start training\n",
    "    for image_batch, _ in dataloader:\n",
    "        # add noise\n",
    "        image_noisy = add_noise(image_batch,noise_factor)\n",
    "        image_noisy = image_noisy.to(device)\n",
    "        \n",
    "        # encoder\n",
    "        mean, rar = encoder(image_noisy)\n",
    "        z_code = resample(mean, var)\n",
    "        \n",
    "        # decoder\n",
    "        output = decoder(z_code)\n",
    "        \n",
    "        # loss\n",
    "        loss = criterion(output, image_noisy, mean, var)\n",
    "\n",
    "        # back propagation\n",
    "        optimizer.zero_grad()\n",
    "        loss.backward()\n",
    "        optimizer.step()\n",
    "        \n",
    "        train_loss.append(loss.detach().cpu().numpy())\n",
    "\n",
    "    return np.mean(train_loss)\n",
    "\n",
    "# test\n",
    "def test_epoch_den(encoder, decoder, dataloader, criterion, noise_factor=0.3):\n",
    "    \n",
    "    # evaluating phase\n",
    "    encoder.eval()\n",
    "    decoder.eval()\n",
    "    val_loss=0.0\n",
    "    \n",
    "    with torch.no_grad(): # No need to track the gradients\n",
    "        conc_out = []\n",
    "        conc_label = []\n",
    "        \n",
    "        for image_batch, _ in dataloader:\n",
    "            \n",
    "            # add noisy\n",
    "            image_noisy = add_noise(image_batch,noise_factor)\n",
    "            image_noisy = image_noisy.to(device)\n",
    "            \n",
    "            # encoder\n",
    "            mean, var = encoder(image_noisy)\n",
    "            z_code = resample(mean, var)\n",
    "            \n",
    "            # decoder\n",
    "            output = decoder(z_code)\n",
    "            \n",
    "            # save output into conc_out\n",
    "            conc_out.append(output.cpu())\n",
    "            conc_label.append(image_batch.cpu())\n",
    "            val_loss +=  loss_fn(output.cpu(), image_batch.cpu(), mean, var)\n",
    "        \n",
    "        # concact\n",
    "        conc_out = torch.cat(conc_out)\n",
    "        conc_label = torch.cat(conc_label) \n",
    "        \n",
    "        # validation loss\n",
    "    return val_loss.data\n"
   ]
  },
  {
   "cell_type": "markdown",
   "metadata": {},
   "source": [
    "# Visualize"
   ]
  },
  {
   "cell_type": "code",
   "execution_count": 46,
   "metadata": {},
   "outputs": [],
   "source": [
    "import matplotlib.pyplot as plt\n",
    "\n",
    "def plot_ae_output(epoch, encoder, decoder, n=5, noise_factor=0.3):\n",
    "    plt.figure(figsize=(10, 4.5))\n",
    "    \n",
    "    for i in range(n): # reveal first n number\n",
    "        ax = plt.subplot(3, n, i+1)\n",
    "        img = test_ds[i][0].unsqueeze(0) # shape: [C, H, W] -> [Batch, C, H, W]\n",
    "        \n",
    "        img_noisy = add_noisy(img, noise_factor)\n",
    "        img_noisy = img_noisy.to(device)\n",
    "        \n",
    "        encoder.eval()\n",
    "        decoder.eval()\n",
    "        \n",
    "        with torch.no_grad(): # do not need to track gradient descent\n",
    "            rec_img = decoder(resample(*encoder(img_noisy)))\n",
    "        \n",
    "        # show original and noisy image once\n",
    "        if epoch == 0:\n",
    "            plt.imshow(img.cpu().squeeze().numpy(), cmap='gist_gray')\n",
    "            ax.get_xaxis().set_visible(False)\n",
    "            ax.get_yaxis().set_visible(False)\n",
    "            if i == n//2:\n",
    "                ax.set_title(\"Original\")\n",
    "            \n",
    "            # noisy image\n",
    "            ax = plt.subplot(3, n, i + 1 + n)\n",
    "            plt.imshow(img_noisy.cpu().squeeze().numpy(), cmap='gist_gray')\n",
    "            ax.get_xaxis().set_visible(False)\n",
    "            ax.get_yaxis().set_visible(False)\n",
    "            if i == n//2:\n",
    "                ax.set_title(\"Noisy\")\n",
    "            \n",
    "        # show reconstruction image\n",
    "        if epoch == 0:\n",
    "            ax = plt.subplot(3, n, i + 1 + 2*n)\n",
    "            plt.imshow(rec_img.cpu().squeeze().numpy(), cmap='gist_gray')\n",
    "            ax.get_xaxis().set_visible(False)\n",
    "            ax.get_yaxis().set_visible(False)\n",
    "            if i == n // 2:\n",
    "                ax.set_title(\"Reconstruction\")\n",
    "        else:\n",
    "            ax = plt.subplot(3, n, i+1)\n",
    "            plt.imshow(rec_img.cpu().squeeze().numpy(), cmap='gist_gray')\n",
    "            ax.get_xaxis().set_visible(False)\n",
    "            ax.get_yaxis().set_visible(False)\n",
    "    plt.subplots_adjust(left=0.1, bottom=0.1, right=0.7, top=0.9, wspace=0.3, hspace=0.3)\n",
    "    \n",
    "    plt.show()\n"
   ]
  },
  {
   "cell_type": "code",
   "execution_count": 47,
   "metadata": {},
   "outputs": [
    {
     "ename": "NameError",
     "evalue": "name 'train_loader' is not defined",
     "output_type": "error",
     "traceback": [
      "\u001b[1;31m---------------------------------------------------------------------------\u001b[0m",
      "\u001b[1;31mNameError\u001b[0m                                 Traceback (most recent call last)",
      "\u001b[1;32m<ipython-input-47-e4b9da19e518>\u001b[0m in \u001b[0;36m<module>\u001b[1;34m\u001b[0m\n\u001b[0;32m     10\u001b[0m         \u001b[0mdecoder\u001b[0m\u001b[1;33m=\u001b[0m\u001b[0mdecoder\u001b[0m\u001b[1;33m,\u001b[0m\u001b[1;33m\u001b[0m\u001b[1;33m\u001b[0m\u001b[0m\n\u001b[0;32m     11\u001b[0m         \u001b[0mdevice\u001b[0m\u001b[1;33m=\u001b[0m\u001b[0mdevice\u001b[0m\u001b[1;33m,\u001b[0m\u001b[1;33m\u001b[0m\u001b[1;33m\u001b[0m\u001b[0m\n\u001b[1;32m---> 12\u001b[1;33m         \u001b[0mdataloader\u001b[0m\u001b[1;33m=\u001b[0m\u001b[0mtrain_loader\u001b[0m\u001b[1;33m,\u001b[0m\u001b[1;33m\u001b[0m\u001b[1;33m\u001b[0m\u001b[0m\n\u001b[0m\u001b[0;32m     13\u001b[0m         \u001b[0mloss_fn\u001b[0m\u001b[1;33m=\u001b[0m\u001b[0mloss_fn\u001b[0m\u001b[1;33m,\u001b[0m\u001b[1;33m\u001b[0m\u001b[1;33m\u001b[0m\u001b[0m\n\u001b[0;32m     14\u001b[0m         optimizer=optim,noise_factor=noise_factor)\n",
      "\u001b[1;31mNameError\u001b[0m: name 'train_loader' is not defined"
     ]
    }
   ],
   "source": [
    "noise_factor = 0.3\n",
    "num_epochs = 50\n",
    "history_da={'train_loss':[],'val_loss':[]}\n",
    "\n",
    "for epoch in range(num_epochs):\n",
    "    # print(f'EPOCH {epoch + 1}/{num_epochs}')\n",
    "    # 训练\n",
    "    train_loss=train_epoch_den(\n",
    "        encoder=encoder, \n",
    "        decoder=decoder, \n",
    "        device=device, \n",
    "        dataloader=train_loader, \n",
    "        loss_fn=loss_fn, \n",
    "        optimizer=optim,noise_factor=noise_factor)\n",
    "    # 验证\n",
    "    val_loss = test_epoch_den(\n",
    "        encoder=encoder, \n",
    "        decoder=decoder, \n",
    "        device=device, \n",
    "        dataloader=valid_loader, \n",
    "        loss_fn=loss_fn,noise_factor=noise_factor)\n",
    "    # Print Validation loss\n",
    "    history_da['train_loss'].append(train_loss)\n",
    "    history_da['val_loss'].append(val_loss)\n",
    "    print(f'EPOCH {epoch + 1}/{num_epochs} \\t 训练损失：{train_loss:.3f}' + \n",
    "          f' \\t 验证损失： {val_loss:.3f}')\n",
    "    plot_ae_outputs_den(epoch,encoder,decoder,noise_factor=noise_factor)"
   ]
  },
  {
   "cell_type": "code",
   "execution_count": null,
   "metadata": {},
   "outputs": [],
   "source": []
  }
 ],
 "metadata": {
  "kernelspec": {
   "display_name": "Python 3",
   "language": "python",
   "name": "python3"
  },
  "language_info": {
   "codemirror_mode": {
    "name": "ipython",
    "version": 3
   },
   "file_extension": ".py",
   "mimetype": "text/x-python",
   "name": "python",
   "nbconvert_exporter": "python",
   "pygments_lexer": "ipython3",
   "version": "3.7.6"
  },
  "toc": {
   "base_numbering": 1,
   "nav_menu": {},
   "number_sections": true,
   "sideBar": true,
   "skip_h1_title": false,
   "title_cell": "Table of Contents",
   "title_sidebar": "Contents",
   "toc_cell": false,
   "toc_position": {},
   "toc_section_display": true,
   "toc_window_display": false
  }
 },
 "nbformat": 4,
 "nbformat_minor": 5
}
