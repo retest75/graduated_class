{
 "cells": [
  {
   "cell_type": "markdown",
   "metadata": {
    "id": "8c55ab3e"
   },
   "source": [
    "# Check version and cuda"
   ]
  },
  {
   "cell_type": "code",
   "execution_count": 2,
   "metadata": {
    "colab": {
     "base_uri": "https://localhost:8080/"
    },
    "executionInfo": {
     "elapsed": 4581,
     "status": "ok",
     "timestamp": 1691770393932,
     "user": {
      "displayName": "陳劭驊",
      "userId": "04838775255713790535"
     },
     "user_tz": -480
    },
    "id": "a4a02b4d",
    "outputId": "dd704b28-22a9-478a-d132-b65df414a044"
   },
   "outputs": [
    {
     "name": "stdout",
     "output_type": "stream",
     "text": [
      "PyTorch version: 2.0.1+cu118\n",
      "cuda: True\n"
     ]
    }
   ],
   "source": [
    "import torch\n",
    "\n",
    "print(f\"PyTorch version: {torch.__version__}\")\n",
    "print(f\"cuda: {torch.cuda.is_available()}\")"
   ]
  },
  {
   "cell_type": "markdown",
   "metadata": {
    "id": "60d445ae"
   },
   "source": [
    "# About parameters\n",
    "1. batch size\n",
    "2. device\n",
    "3. path of dataset"
   ]
  },
  {
   "cell_type": "code",
   "execution_count": 3,
   "metadata": {
    "executionInfo": {
     "elapsed": 375,
     "status": "ok",
     "timestamp": 1691770396920,
     "user": {
      "displayName": "陳劭驊",
      "userId": "04838775255713790535"
     },
     "user_tz": -480
    },
    "id": "3c0a6bb8"
   },
   "outputs": [],
   "source": [
    "device = torch.device(\"cuda\" if torch.cuda.is_available else \"cpu\")\n",
    "batch_size = 2\n",
    "training_pth = \"/content/drive/MyDrive/Colab Notebooks/UNet/fundus/training\"\n",
    "testing_pth = \"/content/drive/MyDrive/Colab Notebooks/UNet/fundus/testing\"\n"
   ]
  },
  {
   "cell_type": "markdown",
   "metadata": {
    "id": "af0b06d4"
   },
   "source": [
    "# Datasets"
   ]
  },
  {
   "cell_type": "markdown",
   "metadata": {
    "id": "0dca7a65"
   },
   "source": [
    "## data augmentation\n",
    "1. randomly augmentation\n",
    "2. 0:vertical flip, 1: horizontal flip, 2, horizontal and vertical flip, 3: nothing"
   ]
  },
  {
   "cell_type": "code",
   "execution_count": 4,
   "metadata": {
    "executionInfo": {
     "elapsed": 1326,
     "status": "ok",
     "timestamp": 1691770404383,
     "user": {
      "displayName": "陳劭驊",
      "userId": "04838775255713790535"
     },
     "user_tz": -480
    },
    "id": "40c91eb9"
   },
   "outputs": [],
   "source": [
    "from torchvision import transforms\n",
    "\n",
    "transform = {\n",
    "    0:transforms.Compose([transforms.Grayscale(),\n",
    "                          transforms.RandomVerticalFlip(p=1.0),\n",
    "                          transforms.ToTensor()]),\n",
    "    1:transforms.Compose([transforms.Grayscale(),\n",
    "                          transforms.RandomHorizontalFlip(p=1.0),\n",
    "                          transforms.ToTensor()]),\n",
    "    2:transforms.Compose([transforms.Grayscale(),\n",
    "                          transforms.RandomHorizontalFlip(p=1.0),\n",
    "                          transforms.RandomVerticalFlip(p=1.0),\n",
    "                          transforms.ToTensor()]),\n",
    "    3:transforms.Compose([transforms.Grayscale(),\n",
    "                          transforms.ToTensor()])\n",
    "}"
   ]
  },
  {
   "cell_type": "markdown",
   "metadata": {
    "id": "3ff9815c"
   },
   "source": [
    "## customized dataset and test it"
   ]
  },
  {
   "cell_type": "code",
   "execution_count": 5,
   "metadata": {
    "executionInfo": {
     "elapsed": 374,
     "status": "ok",
     "timestamp": 1691770408588,
     "user": {
      "displayName": "陳劭驊",
      "userId": "04838775255713790535"
     },
     "user_tz": -480
    },
    "id": "dbc6101e"
   },
   "outputs": [],
   "source": [
    "import os\n",
    "import random\n",
    "from PIL import Image\n",
    "\n",
    "from torch.utils.data import Dataset, DataLoader\n",
    "\n",
    "class CustomizedDataset(Dataset):\n",
    "    def __init__(self, root, transform=None):\n",
    "        self.transform = transform\n",
    "\n",
    "        img_root = os.path.join(root, \"images\") # image path\n",
    "        lbl_root = os.path.join(root, \"label\")  # label path\n",
    "\n",
    "        img_length = len(os.listdir(img_root))   # length of image\n",
    "        lel_length = len(os.listdir(lbl_root))   # length of label\n",
    "\n",
    "        self.img = [f\"{img_root}/{i}.png\" for i in range(img_length)] # correct road and filename in sequentially\n",
    "        self.lbl = [f\"{lbl_root}/{i}.png\" for i in range(lel_length)] # correct road and filename in sequentially\n",
    "\n",
    "    def __getitem__(self, index):\n",
    "        image_pth = self.img[index]\n",
    "        label_pth = self.lbl[index]\n",
    "\n",
    "        image = Image.open(image_pth)\n",
    "        label = Image.open(label_pth)\n",
    "\n",
    "        # augmentation\n",
    "        flip_code = random.choice([0, 1, 2, 3])\n",
    "        if self.transform is not None:\n",
    "            img = self.transform[flip_code](image)\n",
    "            lbl = self.transform[flip_code](label)\n",
    "\n",
    "        # convert pixel of label into 0 and 1\n",
    "        # because out task is segmentation, it actually is a binary classification work\n",
    "        # set pixel to 0 or 1 to help us classify forward and backward\n",
    "        # but ToTensor() has alread included this step\n",
    "#        if lbl.max() > 1:\n",
    "#            lbl = lbl / 255\n",
    "\n",
    "        return img, lbl\n",
    "\n",
    "    def __len__(self):\n",
    "        return len(self.img)\n"
   ]
  },
  {
   "cell_type": "code",
   "execution_count": 6,
   "metadata": {
    "colab": {
     "base_uri": "https://localhost:8080/"
    },
    "executionInfo": {
     "elapsed": 25177,
     "status": "ok",
     "timestamp": 1691770438375,
     "user": {
      "displayName": "陳劭驊",
      "userId": "04838775255713790535"
     },
     "user_tz": -480
    },
    "id": "70eae0e0",
    "outputId": "05dc976b-9956-405b-af13-eec67e354297"
   },
   "outputs": [
    {
     "name": "stdout",
     "output_type": "stream",
     "text": [
      "length of dataset: 20\n",
      "\n",
      "batch: 1\n",
      "---------------\n",
      "image size = torch.Size([2, 1, 512, 512])\n",
      "label size = torch.Size([2, 1, 512, 512])\n",
      "\n",
      "batch: 2\n",
      "---------------\n",
      "image size = torch.Size([2, 1, 512, 512])\n",
      "label size = torch.Size([2, 1, 512, 512])\n",
      "\n",
      "batch: 3\n",
      "---------------\n",
      "image size = torch.Size([2, 1, 512, 512])\n",
      "label size = torch.Size([2, 1, 512, 512])\n",
      "\n",
      "batch: 4\n",
      "---------------\n",
      "image size = torch.Size([2, 1, 512, 512])\n",
      "label size = torch.Size([2, 1, 512, 512])\n",
      "\n",
      "batch: 5\n",
      "---------------\n",
      "image size = torch.Size([2, 1, 512, 512])\n",
      "label size = torch.Size([2, 1, 512, 512])\n",
      "\n",
      "batch: 6\n",
      "---------------\n",
      "image size = torch.Size([2, 1, 512, 512])\n",
      "label size = torch.Size([2, 1, 512, 512])\n",
      "\n",
      "batch: 7\n",
      "---------------\n",
      "image size = torch.Size([2, 1, 512, 512])\n",
      "label size = torch.Size([2, 1, 512, 512])\n",
      "\n",
      "batch: 8\n",
      "---------------\n",
      "image size = torch.Size([2, 1, 512, 512])\n",
      "label size = torch.Size([2, 1, 512, 512])\n",
      "\n",
      "batch: 9\n",
      "---------------\n",
      "image size = torch.Size([2, 1, 512, 512])\n",
      "label size = torch.Size([2, 1, 512, 512])\n",
      "\n",
      "batch: 10\n",
      "---------------\n",
      "image size = torch.Size([2, 1, 512, 512])\n",
      "label size = torch.Size([2, 1, 512, 512])\n",
      "\n"
     ]
    }
   ],
   "source": [
    "# test dataloader\n",
    "train_ds = CustomizedDataset(training_pth, transform)\n",
    "print(f\"length of dataset: {len(train_ds)}\\n\")\n",
    "\n",
    "train_dl = DataLoader(train_ds, batch_size=batch_size, shuffle=True)\n",
    "\n",
    "i = 0\n",
    "for image, label in train_dl:\n",
    "    i += 1\n",
    "    print(f\"batch: {i}\\n\" + f\"-\"*15)\n",
    "    print(f\"image size = {image.size()}\\nlabel size = {label.size()}\\n\")"
   ]
  },
  {
   "cell_type": "markdown",
   "metadata": {
    "id": "a7f1a22e",
    "tags": []
   },
   "source": [
    "# U-Net architecture\n",
    "![U-Net architecture][https://reurl.cc/p6eW7d]\n",
    "1. According to original U-Net architecture, the output size of image will smaller than input\n",
    "2. so we have to modify slightly its atchitecture making the output size equal input size"
   ]
  },
  {
   "cell_type": "markdown",
   "metadata": {
    "id": "2f1883d5"
   },
   "source": [
    "## down sampling module"
   ]
  },
  {
   "cell_type": "code",
   "execution_count": 7,
   "metadata": {
    "executionInfo": {
     "elapsed": 375,
     "status": "ok",
     "timestamp": 1691770478019,
     "user": {
      "displayName": "陳劭驊",
      "userId": "04838775255713790535"
     },
     "user_tz": -480
    },
    "id": "f7b2d3d9"
   },
   "outputs": [],
   "source": [
    "import torch.nn as nn\n",
    "\n",
    "########## double convolution ##########\n",
    "class DoubleConv(nn.Module):\n",
    "    def __init__(self, in_channels, out_channels):\n",
    "        super().__init__()\n",
    "\n",
    "        self.double_conv = nn.Sequential(\n",
    "            nn.Conv2d(in_channels, out_channels, kernel_size=3, stride=1, padding=1),\n",
    "            nn.BatchNorm2d(out_channels),\n",
    "            nn.ReLU(inplace=True),\n",
    "            nn.Conv2d(out_channels, out_channels, kernel_size=3, stride=1, padding=1),\n",
    "            nn.BatchNorm2d(out_channels),\n",
    "            nn.ReLU(inplace=True)\n",
    "        )\n",
    "\n",
    "    def forward(self, x):\n",
    "        x = self.double_conv(x)\n",
    "\n",
    "        return x\n",
    "\n",
    "########## down sampling ##########\n",
    "class DownSampling(nn.Module):\n",
    "    def __init__(self, in_channels, out_channels):\n",
    "        super().__init__()\n",
    "\n",
    "        self.down_sampling = nn.Sequential(\n",
    "            nn.MaxPool2d(kernel_size=2),\n",
    "            DoubleConv(in_channels, out_channels)\n",
    "        )\n",
    "\n",
    "    def forward(self, x):\n",
    "        x = self.down_sampling(x)\n",
    "\n",
    "        return x\n",
    "\n"
   ]
  },
  {
   "cell_type": "markdown",
   "metadata": {
    "id": "ef496054"
   },
   "source": [
    "## up sampling module\n",
    "(1) In up sampling stage, it include two step\n",
    "\n",
    "1. first, use transpose convolution (or bilinear) to enlarge each feather map\n",
    "2. second, padding the feature map from up sampling then concact another feature map from down sampling\n",
    "\n",
    "(2) reference: https://pytorch.org/docs/stable/generated/torch.nn.functional.pad.html#torch.nn.functional.pad (F.pad)"
   ]
  },
  {
   "cell_type": "code",
   "execution_count": 8,
   "metadata": {
    "executionInfo": {
     "elapsed": 376,
     "status": "ok",
     "timestamp": 1691770482846,
     "user": {
      "displayName": "陳劭驊",
      "userId": "04838775255713790535"
     },
     "user_tz": -480
    },
    "id": "68b2f3d2"
   },
   "outputs": [],
   "source": [
    "import torch.nn.functional as F\n",
    "\n",
    "class Up(nn.Module):\n",
    "    def __init__(self, in_channels, out_channels, bilinear=False):\n",
    "        super().__init__()\n",
    "\n",
    "        if bilinear:\n",
    "            self.up = nn.Unsample(scale_factor=2, mode=\"bilinear\", align_corners=True)\n",
    "        else:\n",
    "            self.up = nn.ConvTranspose2d(in_channels, in_channels//2, kernel_size=2, stride=2, padding=0)\n",
    "\n",
    "        self.conv = DoubleConv(in_channels, out_channels)\n",
    "\n",
    "    def forward(self, x1, x2):\n",
    "        \"\"\"\n",
    "        parameters\n",
    "        -----\n",
    "        x1: features after upsample, size = [batch, C, H, W]\n",
    "        x2: features in skip architecture, size = [batch, C, H, W]\n",
    "        \"\"\"\n",
    "\n",
    "        x1 = self.up(x1)\n",
    "\n",
    "        diff_h = torch.tensor(x2.size()[2] - x1.size()[2]) # difference of hight\n",
    "        diff_w = torch.tensor(x2.size()[3] - x1.size()[3]) # difference of width\n",
    "\n",
    "        # padding\n",
    "        ######################################################\n",
    "        # padding參數如果設為[diff_w//2, diff_w//2, diff_h//2, diff_h//2], 則只能針對邊長差為偶數的使用\n",
    "        # ex:  (H, W)=(3, 3) -> (H, W)=(7, 7) 或 (H, W)=(2, 2) -> (H, W)=(8, 8)\n",
    "        # 若是邊長差為奇數, 則會有少padding的情況發生\n",
    "        # ex: (H, W)=(3, 3) -> (H, W)=(10, 10)\n",
    "        # 因此應該寫成[diff_w//2, diff_w - diff_w//2, diff_h//2, diff_h - diff_h//2]\n",
    "        ######################################################\n",
    "        x1 = F.pad(x1, [diff_w//2, diff_w - diff_w//2, diff_h//2, diff_h - diff_h//2])\n",
    "\n",
    "        # concat and convolution\n",
    "        x = torch.cat([x2, x1], dim=1) # concat along channel dimension\n",
    "        x = self.conv(x)\n",
    "\n",
    "        return x\n"
   ]
  },
  {
   "cell_type": "markdown",
   "metadata": {
    "id": "ec3d34c1-b9f9-4c10-9668-cfd0b774d71c"
   },
   "source": [
    "## output convolution"
   ]
  },
  {
   "cell_type": "code",
   "execution_count": 9,
   "metadata": {
    "executionInfo": {
     "elapsed": 378,
     "status": "ok",
     "timestamp": 1691770489806,
     "user": {
      "displayName": "陳劭驊",
      "userId": "04838775255713790535"
     },
     "user_tz": -480
    },
    "id": "734bc324-d11e-479f-bc57-7e49a92e6034"
   },
   "outputs": [],
   "source": [
    "class OutConv(nn.Module):\n",
    "    def __init__(self, in_channels, out_channels):\n",
    "        super().__init__()\n",
    "\n",
    "        self.conv = nn.Conv2d(in_channels, out_channels, kernel_size=1)\n",
    "\n",
    "    def forward(self, x):\n",
    "        x = self.conv(x)\n",
    "\n",
    "        return x"
   ]
  },
  {
   "cell_type": "markdown",
   "metadata": {
    "id": "377c198a-5324-4449-92a7-7eb3f0e8901b"
   },
   "source": [
    "# Completed U-Net model\n",
    "for instance, **input size (C, H, W)=(1, 512, 512)**"
   ]
  },
  {
   "cell_type": "code",
   "execution_count": 10,
   "metadata": {
    "executionInfo": {
     "elapsed": 945,
     "status": "ok",
     "timestamp": 1691770497544,
     "user": {
      "displayName": "陳劭驊",
      "userId": "04838775255713790535"
     },
     "user_tz": -480
    },
    "id": "c0bdd933-3084-4c56-b4b3-4555679b2dee"
   },
   "outputs": [],
   "source": [
    "class UNet(nn.Module):\n",
    "    def __init__(self, n_channels, n_classes, bilinear=False):\n",
    "        \"\"\"\n",
    "        parameter\n",
    "        ----------\n",
    "        n_channels: intput channel\n",
    "        n_classes: number of class\n",
    "\n",
    "        \"\"\"\n",
    "        super().__init__()\n",
    "\n",
    "        # down sampling\n",
    "        self.in_channels = DoubleConv(n_channels, 64) # [1, 512, 512]   -> [64, 512, 512]  -> [64, 512, 512]\n",
    "        self.down_1 = DownSampling(64, 128)           # [64, 512, 512]  -> [64, 256, 256]  -> [128, 256, 256] -> [128, 256, 256]\n",
    "        self.down_2 = DownSampling(128, 256)          # [128, 256, 256] -> [128, 128, 128] -> [256, 128, 128] -> [256, 128, 128]\n",
    "        self.down_3 = DownSampling(256, 512)          # [256, 128, 128] -> [256, 64, 64]   -> [512, 64, 64]   -> [512, 64, 64]\n",
    "        self.down_4 = DownSampling(512, 1024)         # [512, 64, 64]   -> [512, 32, 32]   -> [1024, 32, 32]  -> [1024, 32, 32]\n",
    "\n",
    "        # up sampling\n",
    "        self.up_1 = Up(1024, 512, bilinear) # [1024, 32, 32]  -> [1024, 64, 64]  -> [512, 64, 64]   -> [512, 64, 64]\n",
    "        self.up_2 = Up(512, 256, bilinear)  # [512, 64, 64]   -> [512, 128, 128] -> [256, 128, 128] -> [256, 128, 128]\n",
    "        self.up_3 = Up(256, 128, bilinear)  # [256, 128, 128] -> [256, 256, 256] -> [128, 256, 256] -> [128, 256, 256]\n",
    "        self.up_4 = Up(128, 64, bilinear)   # [128, 256, 256] -> [128, 512, 512] -> [64, 512, 512]  -> [64, 512, 512]\n",
    "\n",
    "        # output\n",
    "        self.out_channels = OutConv(64, n_classes)\n",
    "\n",
    "    def forward(self, x):\n",
    "        # down sampling\n",
    "        x1 = self.in_channels(x)\n",
    "        x2 = self.down_1(x1)\n",
    "        x3 = self.down_2(x2)\n",
    "        x4 = self.down_3(x3)\n",
    "        x5 = self.down_4(x4)\n",
    "\n",
    "        # up sampling\n",
    "        x = self.up_1(x5, x4)\n",
    "        x = self.up_2(x, x3)\n",
    "        x = self.up_3(x, x2)\n",
    "        x = self.up_4(x, x1)\n",
    "        x = self.out_channels(x)\n",
    "\n",
    "        return x\n",
    "\n"
   ]
  },
  {
   "cell_type": "code",
   "execution_count": 11,
   "metadata": {
    "colab": {
     "base_uri": "https://localhost:8080/"
    },
    "executionInfo": {
     "elapsed": 539,
     "status": "ok",
     "timestamp": 1691770503117,
     "user": {
      "displayName": "陳劭驊",
      "userId": "04838775255713790535"
     },
     "user_tz": -480
    },
    "id": "0bc36789-1647-4c91-9910-f21e7dc23e23",
    "outputId": "3091ff68-f4c8-45c9-fbd6-ddc563d44bc7"
   },
   "outputs": [
    {
     "name": "stdout",
     "output_type": "stream",
     "text": [
      "in_channels\n",
      "DoubleConv(\n",
      "  (double_conv): Sequential(\n",
      "    (0): Conv2d(1, 64, kernel_size=(3, 3), stride=(1, 1), padding=(1, 1))\n",
      "    (1): BatchNorm2d(64, eps=1e-05, momentum=0.1, affine=True, track_running_stats=True)\n",
      "    (2): ReLU(inplace=True)\n",
      "    (3): Conv2d(64, 64, kernel_size=(3, 3), stride=(1, 1), padding=(1, 1))\n",
      "    (4): BatchNorm2d(64, eps=1e-05, momentum=0.1, affine=True, track_running_stats=True)\n",
      "    (5): ReLU(inplace=True)\n",
      "  )\n",
      ")\n",
      "down_1\n",
      "DownSampling(\n",
      "  (down_sampling): Sequential(\n",
      "    (0): MaxPool2d(kernel_size=2, stride=2, padding=0, dilation=1, ceil_mode=False)\n",
      "    (1): DoubleConv(\n",
      "      (double_conv): Sequential(\n",
      "        (0): Conv2d(64, 128, kernel_size=(3, 3), stride=(1, 1), padding=(1, 1))\n",
      "        (1): BatchNorm2d(128, eps=1e-05, momentum=0.1, affine=True, track_running_stats=True)\n",
      "        (2): ReLU(inplace=True)\n",
      "        (3): Conv2d(128, 128, kernel_size=(3, 3), stride=(1, 1), padding=(1, 1))\n",
      "        (4): BatchNorm2d(128, eps=1e-05, momentum=0.1, affine=True, track_running_stats=True)\n",
      "        (5): ReLU(inplace=True)\n",
      "      )\n",
      "    )\n",
      "  )\n",
      ")\n",
      "down_2\n",
      "DownSampling(\n",
      "  (down_sampling): Sequential(\n",
      "    (0): MaxPool2d(kernel_size=2, stride=2, padding=0, dilation=1, ceil_mode=False)\n",
      "    (1): DoubleConv(\n",
      "      (double_conv): Sequential(\n",
      "        (0): Conv2d(128, 256, kernel_size=(3, 3), stride=(1, 1), padding=(1, 1))\n",
      "        (1): BatchNorm2d(256, eps=1e-05, momentum=0.1, affine=True, track_running_stats=True)\n",
      "        (2): ReLU(inplace=True)\n",
      "        (3): Conv2d(256, 256, kernel_size=(3, 3), stride=(1, 1), padding=(1, 1))\n",
      "        (4): BatchNorm2d(256, eps=1e-05, momentum=0.1, affine=True, track_running_stats=True)\n",
      "        (5): ReLU(inplace=True)\n",
      "      )\n",
      "    )\n",
      "  )\n",
      ")\n",
      "down_3\n",
      "DownSampling(\n",
      "  (down_sampling): Sequential(\n",
      "    (0): MaxPool2d(kernel_size=2, stride=2, padding=0, dilation=1, ceil_mode=False)\n",
      "    (1): DoubleConv(\n",
      "      (double_conv): Sequential(\n",
      "        (0): Conv2d(256, 512, kernel_size=(3, 3), stride=(1, 1), padding=(1, 1))\n",
      "        (1): BatchNorm2d(512, eps=1e-05, momentum=0.1, affine=True, track_running_stats=True)\n",
      "        (2): ReLU(inplace=True)\n",
      "        (3): Conv2d(512, 512, kernel_size=(3, 3), stride=(1, 1), padding=(1, 1))\n",
      "        (4): BatchNorm2d(512, eps=1e-05, momentum=0.1, affine=True, track_running_stats=True)\n",
      "        (5): ReLU(inplace=True)\n",
      "      )\n",
      "    )\n",
      "  )\n",
      ")\n",
      "down_4\n",
      "DownSampling(\n",
      "  (down_sampling): Sequential(\n",
      "    (0): MaxPool2d(kernel_size=2, stride=2, padding=0, dilation=1, ceil_mode=False)\n",
      "    (1): DoubleConv(\n",
      "      (double_conv): Sequential(\n",
      "        (0): Conv2d(512, 1024, kernel_size=(3, 3), stride=(1, 1), padding=(1, 1))\n",
      "        (1): BatchNorm2d(1024, eps=1e-05, momentum=0.1, affine=True, track_running_stats=True)\n",
      "        (2): ReLU(inplace=True)\n",
      "        (3): Conv2d(1024, 1024, kernel_size=(3, 3), stride=(1, 1), padding=(1, 1))\n",
      "        (4): BatchNorm2d(1024, eps=1e-05, momentum=0.1, affine=True, track_running_stats=True)\n",
      "        (5): ReLU(inplace=True)\n",
      "      )\n",
      "    )\n",
      "  )\n",
      ")\n",
      "up_1\n",
      "Up(\n",
      "  (up): ConvTranspose2d(1024, 512, kernel_size=(2, 2), stride=(2, 2))\n",
      "  (conv): DoubleConv(\n",
      "    (double_conv): Sequential(\n",
      "      (0): Conv2d(1024, 512, kernel_size=(3, 3), stride=(1, 1), padding=(1, 1))\n",
      "      (1): BatchNorm2d(512, eps=1e-05, momentum=0.1, affine=True, track_running_stats=True)\n",
      "      (2): ReLU(inplace=True)\n",
      "      (3): Conv2d(512, 512, kernel_size=(3, 3), stride=(1, 1), padding=(1, 1))\n",
      "      (4): BatchNorm2d(512, eps=1e-05, momentum=0.1, affine=True, track_running_stats=True)\n",
      "      (5): ReLU(inplace=True)\n",
      "    )\n",
      "  )\n",
      ")\n",
      "up_2\n",
      "Up(\n",
      "  (up): ConvTranspose2d(512, 256, kernel_size=(2, 2), stride=(2, 2))\n",
      "  (conv): DoubleConv(\n",
      "    (double_conv): Sequential(\n",
      "      (0): Conv2d(512, 256, kernel_size=(3, 3), stride=(1, 1), padding=(1, 1))\n",
      "      (1): BatchNorm2d(256, eps=1e-05, momentum=0.1, affine=True, track_running_stats=True)\n",
      "      (2): ReLU(inplace=True)\n",
      "      (3): Conv2d(256, 256, kernel_size=(3, 3), stride=(1, 1), padding=(1, 1))\n",
      "      (4): BatchNorm2d(256, eps=1e-05, momentum=0.1, affine=True, track_running_stats=True)\n",
      "      (5): ReLU(inplace=True)\n",
      "    )\n",
      "  )\n",
      ")\n",
      "up_3\n",
      "Up(\n",
      "  (up): ConvTranspose2d(256, 128, kernel_size=(2, 2), stride=(2, 2))\n",
      "  (conv): DoubleConv(\n",
      "    (double_conv): Sequential(\n",
      "      (0): Conv2d(256, 128, kernel_size=(3, 3), stride=(1, 1), padding=(1, 1))\n",
      "      (1): BatchNorm2d(128, eps=1e-05, momentum=0.1, affine=True, track_running_stats=True)\n",
      "      (2): ReLU(inplace=True)\n",
      "      (3): Conv2d(128, 128, kernel_size=(3, 3), stride=(1, 1), padding=(1, 1))\n",
      "      (4): BatchNorm2d(128, eps=1e-05, momentum=0.1, affine=True, track_running_stats=True)\n",
      "      (5): ReLU(inplace=True)\n",
      "    )\n",
      "  )\n",
      ")\n",
      "up_4\n",
      "Up(\n",
      "  (up): ConvTranspose2d(128, 64, kernel_size=(2, 2), stride=(2, 2))\n",
      "  (conv): DoubleConv(\n",
      "    (double_conv): Sequential(\n",
      "      (0): Conv2d(128, 64, kernel_size=(3, 3), stride=(1, 1), padding=(1, 1))\n",
      "      (1): BatchNorm2d(64, eps=1e-05, momentum=0.1, affine=True, track_running_stats=True)\n",
      "      (2): ReLU(inplace=True)\n",
      "      (3): Conv2d(64, 64, kernel_size=(3, 3), stride=(1, 1), padding=(1, 1))\n",
      "      (4): BatchNorm2d(64, eps=1e-05, momentum=0.1, affine=True, track_running_stats=True)\n",
      "      (5): ReLU(inplace=True)\n",
      "    )\n",
      "  )\n",
      ")\n",
      "out_channels\n",
      "OutConv(\n",
      "  (conv): Conv2d(64, 1, kernel_size=(1, 1), stride=(1, 1))\n",
      ")\n"
     ]
    }
   ],
   "source": [
    "# observe model architecture\n",
    "model = UNet(n_channels=1, n_classes=1)\n",
    "for name, layer in model.named_children():\n",
    "    print(name)\n",
    "    print(layer)"
   ]
  },
  {
   "cell_type": "code",
   "execution_count": null,
   "metadata": {
    "id": "f9575ba1-aaf9-40b3-bab6-efcd44434caf",
    "outputId": "491f7cdd-7162-4678-ad83-5db9f5fa2bce"
   },
   "outputs": [
    {
     "name": "stdout",
     "output_type": "stream",
     "text": [
      "----------------------------------------------------------------\n",
      "        Layer (type)               Output Shape         Param #\n",
      "================================================================\n",
      "            Conv2d-1         [-1, 64, 512, 512]             640\n",
      "       BatchNorm2d-2         [-1, 64, 512, 512]             128\n",
      "              ReLU-3         [-1, 64, 512, 512]               0\n",
      "            Conv2d-4         [-1, 64, 512, 512]          36,928\n",
      "       BatchNorm2d-5         [-1, 64, 512, 512]             128\n",
      "              ReLU-6         [-1, 64, 512, 512]               0\n",
      "        DoubleConv-7         [-1, 64, 512, 512]               0\n",
      "         MaxPool2d-8         [-1, 64, 256, 256]               0\n",
      "            Conv2d-9        [-1, 128, 256, 256]          73,856\n",
      "      BatchNorm2d-10        [-1, 128, 256, 256]             256\n",
      "             ReLU-11        [-1, 128, 256, 256]               0\n",
      "           Conv2d-12        [-1, 128, 256, 256]         147,584\n",
      "      BatchNorm2d-13        [-1, 128, 256, 256]             256\n",
      "             ReLU-14        [-1, 128, 256, 256]               0\n",
      "       DoubleConv-15        [-1, 128, 256, 256]               0\n",
      "     DownSampling-16        [-1, 128, 256, 256]               0\n",
      "        MaxPool2d-17        [-1, 128, 128, 128]               0\n",
      "           Conv2d-18        [-1, 256, 128, 128]         295,168\n",
      "      BatchNorm2d-19        [-1, 256, 128, 128]             512\n",
      "             ReLU-20        [-1, 256, 128, 128]               0\n",
      "           Conv2d-21        [-1, 256, 128, 128]         590,080\n",
      "      BatchNorm2d-22        [-1, 256, 128, 128]             512\n",
      "             ReLU-23        [-1, 256, 128, 128]               0\n",
      "       DoubleConv-24        [-1, 256, 128, 128]               0\n",
      "     DownSampling-25        [-1, 256, 128, 128]               0\n",
      "        MaxPool2d-26          [-1, 256, 64, 64]               0\n",
      "           Conv2d-27          [-1, 512, 64, 64]       1,180,160\n",
      "      BatchNorm2d-28          [-1, 512, 64, 64]           1,024\n",
      "             ReLU-29          [-1, 512, 64, 64]               0\n",
      "           Conv2d-30          [-1, 512, 64, 64]       2,359,808\n",
      "      BatchNorm2d-31          [-1, 512, 64, 64]           1,024\n",
      "             ReLU-32          [-1, 512, 64, 64]               0\n",
      "       DoubleConv-33          [-1, 512, 64, 64]               0\n",
      "     DownSampling-34          [-1, 512, 64, 64]               0\n",
      "        MaxPool2d-35          [-1, 512, 32, 32]               0\n",
      "           Conv2d-36         [-1, 1024, 32, 32]       4,719,616\n",
      "      BatchNorm2d-37         [-1, 1024, 32, 32]           2,048\n",
      "             ReLU-38         [-1, 1024, 32, 32]               0\n",
      "           Conv2d-39         [-1, 1024, 32, 32]       9,438,208\n",
      "      BatchNorm2d-40         [-1, 1024, 32, 32]           2,048\n",
      "             ReLU-41         [-1, 1024, 32, 32]               0\n",
      "       DoubleConv-42         [-1, 1024, 32, 32]               0\n",
      "     DownSampling-43         [-1, 1024, 32, 32]               0\n",
      "  ConvTranspose2d-44          [-1, 512, 64, 64]       2,097,664\n",
      "           Conv2d-45          [-1, 512, 64, 64]       4,719,104\n",
      "      BatchNorm2d-46          [-1, 512, 64, 64]           1,024\n",
      "             ReLU-47          [-1, 512, 64, 64]               0\n",
      "           Conv2d-48          [-1, 512, 64, 64]       2,359,808\n",
      "      BatchNorm2d-49          [-1, 512, 64, 64]           1,024\n",
      "             ReLU-50          [-1, 512, 64, 64]               0\n",
      "       DoubleConv-51          [-1, 512, 64, 64]               0\n",
      "               Up-52          [-1, 512, 64, 64]               0\n",
      "  ConvTranspose2d-53        [-1, 256, 128, 128]         524,544\n",
      "           Conv2d-54        [-1, 256, 128, 128]       1,179,904\n",
      "      BatchNorm2d-55        [-1, 256, 128, 128]             512\n",
      "             ReLU-56        [-1, 256, 128, 128]               0\n",
      "           Conv2d-57        [-1, 256, 128, 128]         590,080\n",
      "      BatchNorm2d-58        [-1, 256, 128, 128]             512\n",
      "             ReLU-59        [-1, 256, 128, 128]               0\n",
      "       DoubleConv-60        [-1, 256, 128, 128]               0\n",
      "               Up-61        [-1, 256, 128, 128]               0\n",
      "  ConvTranspose2d-62        [-1, 128, 256, 256]         131,200\n",
      "           Conv2d-63        [-1, 128, 256, 256]         295,040\n",
      "      BatchNorm2d-64        [-1, 128, 256, 256]             256\n",
      "             ReLU-65        [-1, 128, 256, 256]               0\n",
      "           Conv2d-66        [-1, 128, 256, 256]         147,584\n",
      "      BatchNorm2d-67        [-1, 128, 256, 256]             256\n",
      "             ReLU-68        [-1, 128, 256, 256]               0\n",
      "       DoubleConv-69        [-1, 128, 256, 256]               0\n",
      "               Up-70        [-1, 128, 256, 256]               0\n",
      "  ConvTranspose2d-71         [-1, 64, 512, 512]          32,832\n",
      "           Conv2d-72         [-1, 64, 512, 512]          73,792\n",
      "      BatchNorm2d-73         [-1, 64, 512, 512]             128\n",
      "             ReLU-74         [-1, 64, 512, 512]               0\n",
      "           Conv2d-75         [-1, 64, 512, 512]          36,928\n",
      "      BatchNorm2d-76         [-1, 64, 512, 512]             128\n",
      "             ReLU-77         [-1, 64, 512, 512]               0\n",
      "       DoubleConv-78         [-1, 64, 512, 512]               0\n",
      "               Up-79         [-1, 64, 512, 512]               0\n",
      "           Conv2d-80          [-1, 2, 512, 512]             130\n",
      "          OutConv-81          [-1, 2, 512, 512]               0\n",
      "================================================================\n",
      "Total params: 31,042,434\n",
      "Trainable params: 31,042,434\n",
      "Non-trainable params: 0\n",
      "----------------------------------------------------------------\n",
      "Input size (MB): 1.00\n",
      "Forward/backward pass size (MB): 4084.00\n",
      "Params size (MB): 118.42\n",
      "Estimated Total Size (MB): 4203.42\n",
      "----------------------------------------------------------------\n"
     ]
    }
   ],
   "source": [
    "from torchsummary import summary\n",
    "\n",
    "summary(model, (1, 512, 512))"
   ]
  },
  {
   "cell_type": "markdown",
   "metadata": {
    "id": "dbd9a762-9ca0-4c08-8ce1-a8902c2d3781",
    "tags": []
   },
   "source": [
    "# Training"
   ]
  },
  {
   "cell_type": "markdown",
   "metadata": {
    "id": "678edf0b-f0c4-4a40-b7bb-e43de0c16772"
   },
   "source": [
    "## dataset"
   ]
  },
  {
   "cell_type": "code",
   "execution_count": 12,
   "metadata": {
    "executionInfo": {
     "elapsed": 344,
     "status": "ok",
     "timestamp": 1691770530315,
     "user": {
      "displayName": "陳劭驊",
      "userId": "04838775255713790535"
     },
     "user_tz": -480
    },
    "id": "53ef2ea0-d7fd-4cb0-bb33-7828e2cc70e6"
   },
   "outputs": [],
   "source": [
    "batch_size = 5\n",
    "train_ds = CustomizedDataset(training_pth, transform)\n",
    "train_dl = DataLoader(train_ds, batch_size=batch_size, shuffle=True)"
   ]
  },
  {
   "cell_type": "markdown",
   "metadata": {
    "id": "08ecb24e-73fd-423f-a1a1-54529af11470"
   },
   "source": [
    "## model, loss and optimizer"
   ]
  },
  {
   "cell_type": "code",
   "execution_count": 13,
   "metadata": {
    "executionInfo": {
     "elapsed": 5456,
     "status": "ok",
     "timestamp": 1691770542810,
     "user": {
      "displayName": "陳劭驊",
      "userId": "04838775255713790535"
     },
     "user_tz": -480
    },
    "id": "157871c0-98f5-4acc-9130-5c1e05d92d4d"
   },
   "outputs": [],
   "source": [
    "from torch import optim\n",
    "\n",
    "# model setting\n",
    "n_channels = 1\n",
    "n_classes = 1\n",
    "model = UNet(n_channels, n_classes)\n",
    "model = model.to(device)\n",
    "\n",
    "# loss and optimizer\n",
    "lr = 0.00001\n",
    "criterion = nn.BCEWithLogitsLoss()\n",
    "optimizer = optim.RMSprop(model.parameters(), lr=0.00001, weight_decay=1e-8, momentum=0.9)\n",
    "epochs = 50"
   ]
  },
  {
   "cell_type": "markdown",
   "metadata": {
    "id": "12a3a29d-4923-4aef-8fdb-4db1ff4e97b3"
   },
   "source": [
    "## training"
   ]
  },
  {
   "cell_type": "code",
   "execution_count": 14,
   "metadata": {
    "colab": {
     "base_uri": "https://localhost:8080/"
    },
    "executionInfo": {
     "elapsed": 264276,
     "status": "ok",
     "timestamp": 1691770820417,
     "user": {
      "displayName": "陳劭驊",
      "userId": "04838775255713790535"
     },
     "user_tz": -480
    },
    "id": "d315815c-8ca9-41cf-8123-f5fdb21f70be",
    "outputId": "d356c176-cbba-40c8-c5fc-62f52efccf46"
   },
   "outputs": [
    {
     "name": "stdout",
     "output_type": "stream",
     "text": [
      "Epoch: 1/50\n",
      "---------------\n",
      "loss: 0.700443\n",
      "\n",
      "Epoch: 2/50\n",
      "---------------\n",
      "loss: 0.583812\n",
      "\n",
      "Epoch: 3/50\n",
      "---------------\n",
      "loss: 0.520095\n",
      "\n",
      "Epoch: 4/50\n",
      "---------------\n",
      "loss: 0.472994\n",
      "\n",
      "Epoch: 5/50\n",
      "---------------\n",
      "loss: 0.440371\n",
      "\n",
      "Epoch: 6/50\n",
      "---------------\n",
      "loss: 0.420152\n",
      "\n",
      "Epoch: 7/50\n",
      "---------------\n",
      "loss: 0.407083\n",
      "\n",
      "Epoch: 8/50\n",
      "---------------\n",
      "loss: 0.394899\n",
      "\n",
      "Epoch: 9/50\n",
      "---------------\n",
      "loss: 0.385398\n",
      "\n",
      "Epoch: 10/50\n",
      "---------------\n",
      "loss: 0.374362\n",
      "\n",
      "Epoch: 11/50\n",
      "---------------\n",
      "loss: 0.367852\n",
      "\n",
      "Epoch: 12/50\n",
      "---------------\n",
      "loss: 0.368639\n",
      "\n",
      "Epoch: 13/50\n",
      "---------------\n",
      "loss: 0.364101\n",
      "\n",
      "Epoch: 14/50\n",
      "---------------\n",
      "loss: 0.356684\n",
      "\n",
      "Epoch: 15/50\n",
      "---------------\n",
      "loss: 0.352007\n",
      "\n",
      "Epoch: 16/50\n",
      "---------------\n",
      "loss: 0.347091\n",
      "\n",
      "Epoch: 17/50\n",
      "---------------\n",
      "loss: 0.343455\n",
      "\n",
      "Epoch: 18/50\n",
      "---------------\n",
      "loss: 0.339819\n",
      "\n",
      "Epoch: 19/50\n",
      "---------------\n",
      "loss: 0.335475\n",
      "\n",
      "Epoch: 20/50\n",
      "---------------\n",
      "loss: 0.332111\n",
      "\n",
      "Epoch: 21/50\n",
      "---------------\n",
      "loss: 0.328691\n",
      "\n",
      "Epoch: 22/50\n",
      "---------------\n",
      "loss: 0.326467\n",
      "\n",
      "Epoch: 23/50\n",
      "---------------\n",
      "loss: 0.323762\n",
      "\n",
      "Epoch: 24/50\n",
      "---------------\n",
      "loss: 0.322869\n",
      "\n",
      "Epoch: 25/50\n",
      "---------------\n",
      "loss: 0.319623\n",
      "\n",
      "Epoch: 26/50\n",
      "---------------\n",
      "loss: 0.315901\n",
      "\n",
      "Epoch: 27/50\n",
      "---------------\n",
      "loss: 0.313313\n",
      "\n",
      "Epoch: 28/50\n",
      "---------------\n",
      "loss: 0.310905\n",
      "\n",
      "Epoch: 29/50\n",
      "---------------\n",
      "loss: 0.309252\n",
      "\n",
      "Epoch: 30/50\n",
      "---------------\n",
      "loss: 0.306509\n",
      "\n",
      "Epoch: 31/50\n",
      "---------------\n",
      "loss: 0.305424\n",
      "\n",
      "Epoch: 32/50\n",
      "---------------\n",
      "loss: 0.302471\n",
      "\n",
      "Epoch: 33/50\n",
      "---------------\n",
      "loss: 0.300460\n",
      "\n",
      "Epoch: 34/50\n",
      "---------------\n",
      "loss: 0.297736\n",
      "\n",
      "Epoch: 35/50\n",
      "---------------\n",
      "loss: 0.295006\n",
      "\n",
      "Epoch: 36/50\n",
      "---------------\n",
      "loss: 0.293789\n",
      "\n",
      "Epoch: 37/50\n",
      "---------------\n",
      "loss: 0.291970\n",
      "\n",
      "Epoch: 38/50\n",
      "---------------\n",
      "loss: 0.290323\n",
      "\n",
      "Epoch: 39/50\n",
      "---------------\n",
      "loss: 0.287338\n",
      "\n",
      "Epoch: 40/50\n",
      "---------------\n",
      "loss: 0.285404\n",
      "\n",
      "Epoch: 41/50\n",
      "---------------\n",
      "loss: 0.284361\n",
      "\n",
      "Epoch: 42/50\n",
      "---------------\n",
      "loss: 0.282044\n",
      "\n",
      "Epoch: 43/50\n",
      "---------------\n",
      "loss: 0.279892\n",
      "\n",
      "Epoch: 44/50\n",
      "---------------\n",
      "loss: 0.278173\n",
      "\n",
      "Epoch: 45/50\n",
      "---------------\n",
      "loss: 0.276195\n",
      "\n",
      "Epoch: 46/50\n",
      "---------------\n",
      "loss: 0.274628\n",
      "\n",
      "Epoch: 47/50\n",
      "---------------\n",
      "loss: 0.272563\n",
      "\n",
      "Epoch: 48/50\n",
      "---------------\n",
      "loss: 0.270903\n",
      "\n",
      "Epoch: 49/50\n",
      "---------------\n",
      "loss: 0.268952\n",
      "\n",
      "Epoch: 50/50\n",
      "---------------\n",
      "loss: 0.267062\n",
      "\n",
      "training time: 0.0 hr 4.0 min 24.01947522163391 sec\n"
     ]
    }
   ],
   "source": [
    "import time\n",
    "\n",
    "model.train()\n",
    "best_loss = float(\"inf\")\n",
    "loss_list = []\n",
    "\n",
    "since = time.time()\n",
    "for epoch in range(1, epochs+1):\n",
    "    print(f\"Epoch: {epoch}/{epochs}\")\n",
    "    print('-' * 15)\n",
    "\n",
    "    batch_loss = 0\n",
    "\n",
    "    for data, label in train_dl:\n",
    "        data, label = data.to(device, dtype=torch.float32), label.to(device, dtype=torch.float32)\n",
    "\n",
    "        optimizer.zero_grad()\n",
    "\n",
    "        output = model(data)\n",
    "        loss = criterion(output, label)\n",
    "        loss.backward()\n",
    "        optimizer.step()\n",
    "\n",
    "        batch_loss += loss.item() * data.size(0)\n",
    "\n",
    "    epoch_loss = batch_loss / len(train_ds)\n",
    "    loss_list.append(epoch_loss)\n",
    "    print(f\"loss: {epoch_loss:.6f}\\n\")\n",
    "\n",
    "    if epoch_loss < best_loss:\n",
    "        best_model_weight = model.state_dict()\n",
    "\n",
    "times = time.time() - since\n",
    "print(f\"training time: {times//3600} hr {(times//60)%60} min {times%60} sec\")\n"
   ]
  },
  {
   "cell_type": "markdown",
   "metadata": {
    "id": "19b84e72-34ed-4ad2-bddd-69063e825f6c"
   },
   "source": [
    "## visualize"
   ]
  },
  {
   "cell_type": "code",
   "execution_count": 15,
   "metadata": {
    "colab": {
     "base_uri": "https://localhost:8080/",
     "height": 470
    },
    "executionInfo": {
     "elapsed": 855,
     "status": "ok",
     "timestamp": 1691770840385,
     "user": {
      "displayName": "陳劭驊",
      "userId": "04838775255713790535"
     },
     "user_tz": -480
    },
    "id": "e5b64f49-d264-434c-b8bd-ff70388ed7bc",
    "outputId": "68ab77b0-b927-4d1a-ab5c-c35476aab314"
   },
   "outputs": [
    {
     "data": {
      "text/plain": [
       "Text(0.5, 1.0, 'Loss')"
      ]
     },
     "execution_count": 15,
     "metadata": {},
     "output_type": "execute_result"
    },
    {
     "data": {
      "image/png": "[encoded data removed]",
      "text/plain": [
       "<Figure size 640x480 with 1 Axes>"
      ]
     },
     "metadata": {},
     "output_type": "display_data"
    }
   ],
   "source": [
    "import matplotlib.pyplot as plt\n",
    "\n",
    "plt.plot(range(1, epochs+1), loss_list)\n",
    "plt.title(\"Loss\")"
   ]
  },
  {
   "cell_type": "markdown",
   "metadata": {
    "id": "80fd4476-edfc-4b72-a5c3-8867a3d56c65"
   },
   "source": [
    "# Testing"
   ]
  },
  {
   "cell_type": "code",
   "execution_count": 18,
   "metadata": {
    "colab": {
     "base_uri": "https://localhost:8080/"
    },
    "executionInfo": {
     "elapsed": 18964,
     "status": "ok",
     "timestamp": 1691771052768,
     "user": {
      "displayName": "陳劭驊",
      "userId": "04838775255713790535"
     },
     "user_tz": -480
    },
    "id": "8a9c28f0-842e-4fb9-a5c9-25e16aa0f440",
    "outputId": "e47d63d9-44b9-46f8-a78b-25a7eafd803e"
   },
   "outputs": [
    {
     "name": "stdout",
     "output_type": "stream",
     "text": [
      "time: 1\n",
      "---------------\n",
      "image size: torch.Size([1, 1, 512, 512])\n",
      "label size: torch.Size([1, 1, 512, 512])\n",
      "\n",
      "time: 2\n",
      "---------------\n",
      "image size: torch.Size([1, 1, 512, 512])\n",
      "label size: torch.Size([1, 1, 512, 512])\n",
      "\n",
      "time: 3\n",
      "---------------\n",
      "image size: torch.Size([1, 1, 512, 512])\n",
      "label size: torch.Size([1, 1, 512, 512])\n",
      "\n",
      "time: 4\n",
      "---------------\n",
      "image size: torch.Size([1, 1, 512, 512])\n",
      "label size: torch.Size([1, 1, 512, 512])\n",
      "\n",
      "time: 5\n",
      "---------------\n",
      "image size: torch.Size([1, 1, 512, 512])\n",
      "label size: torch.Size([1, 1, 512, 512])\n",
      "\n",
      "time: 6\n",
      "---------------\n",
      "image size: torch.Size([1, 1, 512, 512])\n",
      "label size: torch.Size([1, 1, 512, 512])\n",
      "\n",
      "time: 7\n",
      "---------------\n",
      "image size: torch.Size([1, 1, 512, 512])\n",
      "label size: torch.Size([1, 1, 512, 512])\n",
      "\n",
      "time: 8\n",
      "---------------\n",
      "image size: torch.Size([1, 1, 512, 512])\n",
      "label size: torch.Size([1, 1, 512, 512])\n",
      "\n",
      "time: 9\n",
      "---------------\n",
      "image size: torch.Size([1, 1, 512, 512])\n",
      "label size: torch.Size([1, 1, 512, 512])\n",
      "\n",
      "time: 10\n",
      "---------------\n",
      "image size: torch.Size([1, 1, 512, 512])\n",
      "label size: torch.Size([1, 1, 512, 512])\n",
      "\n",
      "time: 11\n",
      "---------------\n",
      "image size: torch.Size([1, 1, 512, 512])\n",
      "label size: torch.Size([1, 1, 512, 512])\n",
      "\n",
      "time: 12\n",
      "---------------\n",
      "image size: torch.Size([1, 1, 512, 512])\n",
      "label size: torch.Size([1, 1, 512, 512])\n",
      "\n",
      "time: 13\n",
      "---------------\n",
      "image size: torch.Size([1, 1, 512, 512])\n",
      "label size: torch.Size([1, 1, 512, 512])\n",
      "\n",
      "time: 14\n",
      "---------------\n",
      "image size: torch.Size([1, 1, 512, 512])\n",
      "label size: torch.Size([1, 1, 512, 512])\n",
      "\n",
      "time: 15\n",
      "---------------\n",
      "image size: torch.Size([1, 1, 512, 512])\n",
      "label size: torch.Size([1, 1, 512, 512])\n",
      "\n",
      "time: 16\n",
      "---------------\n",
      "image size: torch.Size([1, 1, 512, 512])\n",
      "label size: torch.Size([1, 1, 512, 512])\n",
      "\n",
      "time: 17\n",
      "---------------\n",
      "image size: torch.Size([1, 1, 512, 512])\n",
      "label size: torch.Size([1, 1, 512, 512])\n",
      "\n",
      "time: 18\n",
      "---------------\n",
      "image size: torch.Size([1, 1, 512, 512])\n",
      "label size: torch.Size([1, 1, 512, 512])\n",
      "\n",
      "time: 19\n",
      "---------------\n",
      "image size: torch.Size([1, 1, 512, 512])\n",
      "label size: torch.Size([1, 1, 512, 512])\n",
      "\n"
     ]
    }
   ],
   "source": [
    "########## transform ##########\n",
    "transform_test = transforms.Compose([transforms.Grayscale(),\n",
    "                                     transforms.ToTensor()])\n",
    "\n",
    "########## dataset and dataloader ##########\n",
    "class TestDataset(Dataset):\n",
    "    def __init__(self, root, transform=None):\n",
    "        self.transform = transform\n",
    "\n",
    "        img_path = os.path.join(root, \"images\") # image path\n",
    "        lbl_path = os.path.join(root, \"label\")  # label path\n",
    "\n",
    "        img_length = len(os.listdir(img_path))  # image length\n",
    "        lbl_length = len(os.listdir(img_path))    # label length\n",
    "\n",
    "        self.img = [f\"{img_path}/{i}.png\" for i in range(1, img_length+1)]\n",
    "        self.lbl = [f\"{lbl_path}/{i}.png\" for i in range(1, lbl_length+1)]\n",
    "\n",
    "    def __getitem__(self, index):\n",
    "        image_path = self.img[index]\n",
    "        label_path = self.lbl[index]\n",
    "\n",
    "        img = Image.open(image_path)\n",
    "        lbl = Image.open(label_path)\n",
    "\n",
    "        if self.transform is not None:\n",
    "            img = self.transform(img)\n",
    "            lbl = self.transform(lbl)\n",
    "\n",
    "        return img, lbl\n",
    "\n",
    "    def __len__(self):\n",
    "        return len(self.img)\n",
    "\n",
    "########## check dataset and dataloader ##########\n",
    "batch_size = 1\n",
    "test_ds = TestDataset(testing_pth, transform=transform_test)\n",
    "test_dl = DataLoader(test_ds, batch_size=batch_size, shuffle=False)\n",
    "\n",
    "i = 0\n",
    "for img, lbl in test_dl:\n",
    "    i += 1\n",
    "    print(f\"time: {i}\")\n",
    "    print('-' * 15)\n",
    "    print(f\"image size: {img.size()}\\nlabel size: {lbl.size()}\\n\")\n"
   ]
  },
  {
   "cell_type": "code",
   "execution_count": 20,
   "metadata": {
    "colab": {
     "base_uri": "https://localhost:8080/"
    },
    "executionInfo": {
     "elapsed": 7746,
     "status": "ok",
     "timestamp": 1691771319424,
     "user": {
      "displayName": "陳劭驊",
      "userId": "04838775255713790535"
     },
     "user_tz": -480
    },
    "id": "11155108-7500-48a3-a5b4-ea7ecb2201ac",
    "outputId": "bc6573ef-7119-4d84-ef63-18ff4ce66055"
   },
   "outputs": [
    {
     "name": "stdout",
     "output_type": "stream",
     "text": [
      "batch: 1\n",
      "---------------\n",
      "save image: complete !\n",
      "compute iou: complete !\n",
      "batch: 2\n",
      "---------------\n",
      "save image: complete !\n",
      "compute iou: complete !\n",
      "batch: 3\n",
      "---------------\n",
      "save image: complete !\n",
      "compute iou: complete !\n",
      "batch: 4\n",
      "---------------\n",
      "save image: complete !\n",
      "compute iou: complete !\n",
      "batch: 5\n",
      "---------------\n",
      "save image: complete !\n",
      "compute iou: complete !\n",
      "batch: 6\n",
      "---------------\n",
      "save image: complete !\n",
      "compute iou: complete !\n",
      "batch: 7\n",
      "---------------\n",
      "save image: complete !\n",
      "compute iou: complete !\n",
      "batch: 8\n",
      "---------------\n",
      "save image: complete !\n",
      "compute iou: complete !\n",
      "batch: 9\n",
      "---------------\n",
      "save image: complete !\n",
      "compute iou: complete !\n",
      "batch: 10\n",
      "---------------\n",
      "save image: complete !\n",
      "compute iou: complete !\n",
      "batch: 11\n",
      "---------------\n",
      "save image: complete !\n",
      "compute iou: complete !\n",
      "batch: 12\n",
      "---------------\n",
      "save image: complete !\n",
      "compute iou: complete !\n",
      "batch: 13\n",
      "---------------\n",
      "save image: complete !\n",
      "compute iou: complete !\n",
      "batch: 14\n",
      "---------------\n",
      "save image: complete !\n",
      "compute iou: complete !\n",
      "batch: 15\n",
      "---------------\n",
      "save image: complete !\n",
      "compute iou: complete !\n",
      "batch: 16\n",
      "---------------\n",
      "save image: complete !\n",
      "compute iou: complete !\n",
      "batch: 17\n",
      "---------------\n",
      "save image: complete !\n",
      "compute iou: complete !\n",
      "batch: 18\n",
      "---------------\n",
      "save image: complete !\n",
      "compute iou: complete !\n",
      "batch: 19\n",
      "---------------\n",
      "save image: complete !\n",
      "compute iou: complete !\n",
      "mean IOU score: 0.589193832342216\n"
     ]
    }
   ],
   "source": [
    "from sklearn.metrics import confusion_matrix\n",
    "\n",
    "########## compute iou score ##########\n",
    "def IOU(y_true, y_pred):\n",
    "    tn, fp, fn, tp = confusion_matrix(y_true, y_pred).ravel()\n",
    "    iou = tp / (fp + fn + tp)\n",
    "\n",
    "    return iou\n",
    "\n",
    "########## testing ##########\n",
    "save_path = \"/content/drive/MyDrive/Colab Notebooks/UNet/fundus/testing/label\"\n",
    "\n",
    "model.load_state_dict(best_model_weight)\n",
    "model.to(device)\n",
    "model.eval()\n",
    "\n",
    "iou_list = []\n",
    "with torch.no_grad():\n",
    "    for i, (data, label) in enumerate(test_dl):\n",
    "        print(f\"batch: {i+1}\")\n",
    "        print('-' * 15)\n",
    "        data, label = data.to(device, dtype=torch.float32), label.to(device, dtype=torch.float32)\n",
    "\n",
    "        output = model(data) # output size: [b, C, H, W]=[1, 1, 512, 512]\n",
    "\n",
    "        ############### save predicted image ###############\n",
    "        pred = torch.squeeze(output, dim=1)      # pred_img size = [1, 512, 512]\n",
    "        pred[pred >= 0.5] = 1\n",
    "        pred[pred < 0.5] = 0\n",
    "        pred_img = transforms.ToPILImage()(pred) # convert into PIL format\n",
    "        pred_img.save(f\"{save_path}/{i+1}_pred.png\")\n",
    "\n",
    "        print(\"save image: complete !\")\n",
    "        ####################################################\n",
    "\n",
    "        ############## compute mean iou score ##############\n",
    "        y_true = torch.flatten(label)\n",
    "        y_true[y_true >= 0.5] = 1\n",
    "        y_true[y_true < 0.5] = 0\n",
    "        y_true = y_true.detach().cpu().numpy()\n",
    "\n",
    "        y_pred = torch.flatten(pred)\n",
    "        y_pred = y_pred.detach().cpu().numpy()\n",
    "\n",
    "        iou = IOU(y_true, y_pred)\n",
    "        iou_list.append(iou)\n",
    "\n",
    "        print(\"compute iou: complete !\")\n",
    "        ####################################################\n",
    "\n",
    "print(f\"mean IOU score: {sum(iou_list)/len(iou_list)}\")\n"
   ]
  },
  {
   "cell_type": "markdown",
   "metadata": {
    "id": "5fMw1bzeb2L8"
   },
   "source": [
    "# Conclusion\n",
    "一些血管中**更細微的末梢血管**不能很好的分割"
   ]
  }
 ],
 "metadata": {
  "accelerator": "GPU",
  "colab": {
   "gpuType": "T4",
   "provenance": [],
   "toc_visible": true
  },
  "kernelspec": {
   "display_name": "Python 3",
   "language": "python",
   "name": "python3"
  },
  "language_info": {
   "codemirror_mode": {
    "name": "ipython",
    "version": 3
   },
   "file_extension": ".py",
   "mimetype": "text/x-python",
   "name": "python",
   "nbconvert_exporter": "python",
   "pygments_lexer": "ipython3",
   "version": "3.7.6"
  },
  "toc": {
   "base_numbering": 1,
   "nav_menu": {},
   "number_sections": true,
   "sideBar": true,
   "skip_h1_title": false,
   "title_cell": "Table of Contents",
   "title_sidebar": "Contents",
   "toc_cell": false,
   "toc_position": {},
   "toc_section_display": true,
   "toc_window_display": false
  }
 },
 "nbformat": 4,
 "nbformat_minor": 5
}
